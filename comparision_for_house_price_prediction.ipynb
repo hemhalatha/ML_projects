{
  "nbformat": 4,
  "nbformat_minor": 0,
  "metadata": {
    "colab": {
      "provenance": [],
      "authorship_tag": "ABX9TyMbU2CY36LdqcOPpryK6s8m",
      "include_colab_link": true
    },
    "kernelspec": {
      "name": "python3",
      "display_name": "Python 3"
    },
    "language_info": {
      "name": "python"
    }
  },
  "cells": [
    {
      "cell_type": "markdown",
      "metadata": {
        "id": "view-in-github",
        "colab_type": "text"
      },
      "source": [
        "<a href=\"https://colab.research.google.com/github/hemhalatha/ML_projects/blob/main/comparision_for_house_price_prediction.ipynb\" target=\"_parent\"><img src=\"https://colab.research.google.com/assets/colab-badge.svg\" alt=\"Open In Colab\"/></a>"
      ]
    },
    {
      "cell_type": "code",
      "execution_count": 1,
      "metadata": {
        "colab": {
          "base_uri": "https://localhost:8080/"
        },
        "id": "GfSZcJ0NEi9x",
        "outputId": "c94582b9-8bab-438e-8b95-5c9df3542846"
      },
      "outputs": [
        {
          "output_type": "stream",
          "name": "stdout",
          "text": [
            "Requirement already satisfied: scikit-learn in /usr/local/lib/python3.12/dist-packages (1.6.1)\n",
            "Requirement already satisfied: pandas in /usr/local/lib/python3.12/dist-packages (2.2.2)\n",
            "Requirement already satisfied: numpy in /usr/local/lib/python3.12/dist-packages (2.0.2)\n",
            "Requirement already satisfied: scipy>=1.6.0 in /usr/local/lib/python3.12/dist-packages (from scikit-learn) (1.16.1)\n",
            "Requirement already satisfied: joblib>=1.2.0 in /usr/local/lib/python3.12/dist-packages (from scikit-learn) (1.5.2)\n",
            "Requirement already satisfied: threadpoolctl>=3.1.0 in /usr/local/lib/python3.12/dist-packages (from scikit-learn) (3.6.0)\n",
            "Requirement already satisfied: python-dateutil>=2.8.2 in /usr/local/lib/python3.12/dist-packages (from pandas) (2.9.0.post0)\n",
            "Requirement already satisfied: pytz>=2020.1 in /usr/local/lib/python3.12/dist-packages (from pandas) (2025.2)\n",
            "Requirement already satisfied: tzdata>=2022.7 in /usr/local/lib/python3.12/dist-packages (from pandas) (2025.2)\n",
            "Requirement already satisfied: six>=1.5 in /usr/local/lib/python3.12/dist-packages (from python-dateutil>=2.8.2->pandas) (1.17.0)\n"
          ]
        }
      ],
      "source": [
        "!pip install scikit-learn pandas numpy"
      ]
    },
    {
      "cell_type": "code",
      "source": [
        "import pandas as pd\n",
        "import numpy as np\n",
        "from sklearn.datasets import fetch_california_housing\n",
        "from sklearn.model_selection import train_test_split\n",
        "from sklearn.linear_model import LinearRegression\n",
        "from sklearn.tree import DecisionTreeRegressor\n",
        "from sklearn.ensemble import RandomForestRegressor, GradientBoostingRegressor\n",
        "from sklearn.metrics import mean_squared_error, r2_score\n"
      ],
      "metadata": {
        "id": "mP0eNUmwEuzt"
      },
      "execution_count": 2,
      "outputs": []
    },
    {
      "cell_type": "code",
      "source": [
        "data = fetch_california_housing()\n",
        "X = pd.DataFrame(data.data, columns=data.feature_names)\n",
        "y = pd.Series(data.target, name=\"Price\")  # target is in 100,000 $\n",
        "\n",
        "print(\"Dataset shape:\", X.shape)\n",
        "print(\"Sample rows:\")\n",
        "print(X.head())"
      ],
      "metadata": {
        "colab": {
          "base_uri": "https://localhost:8080/"
        },
        "id": "Qt6PNyiyE4mH",
        "outputId": "7ffb6d7b-855e-46ac-b0e5-1256444e7e29"
      },
      "execution_count": 3,
      "outputs": [
        {
          "output_type": "stream",
          "name": "stdout",
          "text": [
            "Dataset shape: (20640, 8)\n",
            "Sample rows:\n",
            "   MedInc  HouseAge  AveRooms  AveBedrms  Population  AveOccup  Latitude  \\\n",
            "0  8.3252      41.0  6.984127   1.023810       322.0  2.555556     37.88   \n",
            "1  8.3014      21.0  6.238137   0.971880      2401.0  2.109842     37.86   \n",
            "2  7.2574      52.0  8.288136   1.073446       496.0  2.802260     37.85   \n",
            "3  5.6431      52.0  5.817352   1.073059       558.0  2.547945     37.85   \n",
            "4  3.8462      52.0  6.281853   1.081081       565.0  2.181467     37.85   \n",
            "\n",
            "   Longitude  \n",
            "0    -122.23  \n",
            "1    -122.22  \n",
            "2    -122.24  \n",
            "3    -122.25  \n",
            "4    -122.25  \n"
          ]
        }
      ]
    },
    {
      "cell_type": "code",
      "source": [
        "print(y.head())"
      ],
      "metadata": {
        "colab": {
          "base_uri": "https://localhost:8080/"
        },
        "id": "xZQ8J55bE81K",
        "outputId": "f4a7933f-d3e5-4dfb-d465-74ed4259a927"
      },
      "execution_count": 4,
      "outputs": [
        {
          "output_type": "stream",
          "name": "stdout",
          "text": [
            "0    4.526\n",
            "1    3.585\n",
            "2    3.521\n",
            "3    3.413\n",
            "4    3.422\n",
            "Name: Price, dtype: float64\n"
          ]
        }
      ]
    },
    {
      "cell_type": "code",
      "source": [
        "X_train, X_test, y_train, y_test = train_test_split(\n",
        "    X, y, test_size=0.2, random_state=42\n",
        ")"
      ],
      "metadata": {
        "id": "QccmNKNDFDu5"
      },
      "execution_count": 5,
      "outputs": []
    },
    {
      "cell_type": "code",
      "source": [
        "models = {\n",
        "    \"Linear Regression\": LinearRegression(),\n",
        "    \"Decision Tree\": DecisionTreeRegressor(max_depth=10, random_state=42),\n",
        "    \"Random Forest\": RandomForestRegressor(n_estimators=200, random_state=42),\n",
        "    \"Gradient Boosting\": GradientBoostingRegressor(n_estimators=200, learning_rate=0.1, random_state=42)\n",
        "}"
      ],
      "metadata": {
        "id": "5snKg8h7FJEy"
      },
      "execution_count": 6,
      "outputs": []
    },
    {
      "cell_type": "code",
      "source": [
        "results = {}\n",
        "\n",
        "for name, model in models.items():\n",
        "    model.fit(X_train, y_train)\n",
        "    y_pred = model.predict(X_test)\n",
        "\n",
        "    mse = mean_squared_error(y_test, y_pred)\n",
        "    r2 = r2_score(y_test, y_pred)\n",
        "\n",
        "    results[name] = {\"MSE\": mse, \"R²\": r2}\n",
        "    print(f\"\\n{name}\")\n",
        "    print(\"Mean Squared Error:\", mse)\n",
        "    print(\"R² Score:\", r2)\n"
      ],
      "metadata": {
        "colab": {
          "base_uri": "https://localhost:8080/"
        },
        "id": "ghxJ8H65FPLX",
        "outputId": "d79994e3-1cc9-4153-f997-92daf21fe553"
      },
      "execution_count": 7,
      "outputs": [
        {
          "output_type": "stream",
          "name": "stdout",
          "text": [
            "\n",
            "Linear Regression\n",
            "Mean Squared Error: 0.5558915986952444\n",
            "R² Score: 0.5757877060324508\n",
            "\n",
            "Decision Tree\n",
            "Mean Squared Error: 0.4154681981618525\n",
            "R² Score: 0.6829476865157171\n",
            "\n",
            "Random Forest\n",
            "Mean Squared Error: 0.2539759249192041\n",
            "R² Score: 0.8061857564039718\n",
            "\n",
            "Gradient Boosting\n",
            "Mean Squared Error: 0.26149849837343114\n",
            "R² Score: 0.8004451261281281\n"
          ]
        }
      ]
    },
    {
      "cell_type": "code",
      "source": [
        "sample = X_test.iloc[[0]]   # keep DataFrame format\n",
        "print(\"\\nSample Input Features:\", sample.to_dict())\n",
        "for name, model in models.items():\n",
        "    print(f\"{name} Prediction: {model.predict(sample)[0]:.2f} (≈ ${model.predict(sample)[0]*100000:,.0f})\")"
      ],
      "metadata": {
        "colab": {
          "base_uri": "https://localhost:8080/"
        },
        "id": "8bDo0tM1FkY_",
        "outputId": "20d9e0b7-418d-4b26-bd5b-39f73070e6c2"
      },
      "execution_count": 8,
      "outputs": [
        {
          "output_type": "stream",
          "name": "stdout",
          "text": [
            "\n",
            "Sample Input Features: {'MedInc': {20046: 1.6812}, 'HouseAge': {20046: 25.0}, 'AveRooms': {20046: 4.192200557103064}, 'AveBedrms': {20046: 1.0222841225626742}, 'Population': {20046: 1392.0}, 'AveOccup': {20046: 3.8774373259052926}, 'Latitude': {20046: 36.06}, 'Longitude': {20046: -119.01}}\n",
            "Linear Regression Prediction: 0.72 (≈ $71,912)\n",
            "Decision Tree Prediction: 0.55 (≈ $55,230)\n",
            "Random Forest Prediction: 0.49 (≈ $49,443)\n",
            "Gradient Boosting Prediction: 0.43 (≈ $43,168)\n"
          ]
        }
      ]
    },
    {
      "cell_type": "code",
      "source": [
        "print(\"\\nModel Comparison Results:\")\n",
        "summary = pd.DataFrame(results).T\n",
        "print(summary)"
      ],
      "metadata": {
        "colab": {
          "base_uri": "https://localhost:8080/"
        },
        "id": "NUywQAUDFvJm",
        "outputId": "9c494063-58d3-496b-cfe2-39b211c2906d"
      },
      "execution_count": 9,
      "outputs": [
        {
          "output_type": "stream",
          "name": "stdout",
          "text": [
            "\n",
            "Model Comparison Results:\n",
            "                        MSE        R²\n",
            "Linear Regression  0.555892  0.575788\n",
            "Decision Tree      0.415468  0.682948\n",
            "Random Forest      0.253976  0.806186\n",
            "Gradient Boosting  0.261498  0.800445\n"
          ]
        }
      ]
    }
  ]
}